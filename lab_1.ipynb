{
 "cells": [
  {
   "cell_type": "code",
   "execution_count": 5,
   "metadata": {},
   "outputs": [
    {
     "name": "stdout",
     "output_type": "stream",
     "text": [
      "Learning GIScience is awesome!\n"
     ]
    }
   ],
   "source": [
    "# Question one\n",
    "lab1_1 = \"Learning GIScience is awesome!\"\n",
    "print(lab1_1)"
   ]
  },
  {
   "cell_type": "code",
   "execution_count": 8,
   "metadata": {},
   "outputs": [
    {
     "name": "stdout",
     "output_type": "stream",
     "text": [
      "GIScience\n"
     ]
    }
   ],
   "source": [
    "# Question \n",
    "lab1_1_2 = (lab1_1[9:18])\n",
    "print(lab1_1_2)"
   ]
  },
  {
   "cell_type": "code",
   "execution_count": 15,
   "metadata": {},
   "outputs": [
    {
     "name": "stdout",
     "output_type": "stream",
     "text": [
      "0 Is even\n",
      "5 Is odd\n",
      "10 Is even\n",
      "15 Is odd\n",
      "20 Is even\n",
      "25 Is odd\n",
      "30 Is even\n",
      "35 Is odd\n",
      "40 Is even\n",
      "45 Is odd\n",
      "50 Is even\n",
      "55 Is odd\n",
      "60 Is even\n",
      "65 Is odd\n",
      "70 Is even\n",
      "75 Is odd\n",
      "80 Is even\n",
      "85 Is odd\n",
      "90 Is even\n",
      "95 Is odd\n",
      "100 Is even\n"
     ]
    }
   ],
   "source": [
    "for i in range(0, 101, 5):\n",
    "    if(i%2 == 0): print(i, \"Is even\")\n",
    "    else: print(i, \"Is odd\")"
   ]
  },
  {
   "cell_type": "code",
   "execution_count": 20,
   "metadata": {},
   "outputs": [
    {
     "name": "stdout",
     "output_type": "stream",
     "text": [
      "0 is even\n",
      "5 is odd\n",
      "10 is even\n",
      "15 is odd\n",
      "20 is even\n",
      "25 is odd\n",
      "30 is even\n",
      "35 is odd\n",
      "40 is even\n",
      "45 is odd\n",
      "50 is even\n",
      "55 is odd\n",
      "60 is even\n",
      "65 is odd\n",
      "70 is even\n",
      "75 is odd\n",
      "80 is even\n",
      "85 is odd\n",
      "90 is even\n",
      "95 is odd\n",
      "100 is even\n"
     ]
    }
   ],
   "source": [
    "i = 0\n",
    "while(i<=101):\n",
    "    if(i%2==0):\n",
    "        print(i, \"is even\")\n",
    "    else:\n",
    "        print(i, \"is odd\")\n",
    "    i = i + 5"
   ]
  },
  {
   "cell_type": "code",
   "execution_count": null,
   "metadata": {},
   "outputs": [],
   "source": []
  }
 ],
 "metadata": {
  "kernelspec": {
   "display_name": "Python 3",
   "language": "python",
   "name": "python3"
  },
  "language_info": {
   "codemirror_mode": {
    "name": "ipython",
    "version": 3
   },
   "file_extension": ".py",
   "mimetype": "text/x-python",
   "name": "python",
   "nbconvert_exporter": "python",
   "pygments_lexer": "ipython3",
   "version": "3.8.5"
  }
 },
 "nbformat": 4,
 "nbformat_minor": 4
}
